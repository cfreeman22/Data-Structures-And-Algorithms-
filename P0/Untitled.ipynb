{
 "cells": [
  {
   "cell_type": "code",
   "execution_count": 1,
   "id": "53ae44af",
   "metadata": {},
   "outputs": [],
   "source": [
    "import pandas as pd\n"
   ]
  },
  {
   "cell_type": "code",
   "execution_count": 25,
   "id": "6fe75b33",
   "metadata": {},
   "outputs": [],
   "source": [
    "calls = pd.read_csv('calls.csv')"
   ]
  },
  {
   "cell_type": "code",
   "execution_count": 26,
   "id": "24f5ed51",
   "metadata": {},
   "outputs": [
    {
     "data": {
      "text/html": [
       "<div>\n",
       "<style scoped>\n",
       "    .dataframe tbody tr th:only-of-type {\n",
       "        vertical-align: middle;\n",
       "    }\n",
       "\n",
       "    .dataframe tbody tr th {\n",
       "        vertical-align: top;\n",
       "    }\n",
       "\n",
       "    .dataframe thead th {\n",
       "        text-align: right;\n",
       "    }\n",
       "</style>\n",
       "<table border=\"1\" class=\"dataframe\">\n",
       "  <thead>\n",
       "    <tr style=\"text-align: right;\">\n",
       "      <th></th>\n",
       "      <th>78130 00821</th>\n",
       "      <th>98453 94494</th>\n",
       "      <th>01-09-2016 06:01:12</th>\n",
       "      <th>186</th>\n",
       "    </tr>\n",
       "  </thead>\n",
       "  <tbody>\n",
       "    <tr>\n",
       "      <th>0</th>\n",
       "      <td>78298 91466</td>\n",
       "      <td>(022)28952819</td>\n",
       "      <td>01-09-2016 06:01:59</td>\n",
       "      <td>2093</td>\n",
       "    </tr>\n",
       "    <tr>\n",
       "      <th>1</th>\n",
       "      <td>97424 22395</td>\n",
       "      <td>(022)47410783</td>\n",
       "      <td>01-09-2016 06:03:51</td>\n",
       "      <td>1975</td>\n",
       "    </tr>\n",
       "    <tr>\n",
       "      <th>2</th>\n",
       "      <td>93427 40118</td>\n",
       "      <td>(080)33118033</td>\n",
       "      <td>01-09-2016 06:11:23</td>\n",
       "      <td>1156</td>\n",
       "    </tr>\n",
       "    <tr>\n",
       "      <th>3</th>\n",
       "      <td>90087 42537</td>\n",
       "      <td>(080)35121497</td>\n",
       "      <td>01-09-2016 06:17:26</td>\n",
       "      <td>573</td>\n",
       "    </tr>\n",
       "    <tr>\n",
       "      <th>4</th>\n",
       "      <td>97427 87999</td>\n",
       "      <td>(04344)322628</td>\n",
       "      <td>01-09-2016 06:19:28</td>\n",
       "      <td>2751</td>\n",
       "    </tr>\n",
       "  </tbody>\n",
       "</table>\n",
       "</div>"
      ],
      "text/plain": [
       "   78130 00821    98453 94494  01-09-2016 06:01:12   186\n",
       "0  78298 91466  (022)28952819  01-09-2016 06:01:59  2093\n",
       "1  97424 22395  (022)47410783  01-09-2016 06:03:51  1975\n",
       "2  93427 40118  (080)33118033  01-09-2016 06:11:23  1156\n",
       "3  90087 42537  (080)35121497  01-09-2016 06:17:26   573\n",
       "4  97427 87999  (04344)322628  01-09-2016 06:19:28  2751"
      ]
     },
     "execution_count": 26,
     "metadata": {},
     "output_type": "execute_result"
    }
   ],
   "source": [
    "calls.head()"
   ]
  },
  {
   "cell_type": "code",
   "execution_count": 9,
   "id": "b12d9890",
   "metadata": {},
   "outputs": [
    {
     "name": "stdout",
     "output_type": "stream",
     "text": [
      "<class 'pandas.core.frame.DataFrame'>\n",
      "RangeIndex: 5212 entries, 0 to 5211\n",
      "Data columns (total 4 columns):\n",
      " #   Column               Non-Null Count  Dtype \n",
      "---  ------               --------------  ----- \n",
      " 0   78130 00821          5212 non-null   object\n",
      " 1   98453 94494          5212 non-null   object\n",
      " 2   01-09-2016 06:01:12  5212 non-null   object\n",
      " 3   186                  5212 non-null   int64 \n",
      "dtypes: int64(1), object(3)\n",
      "memory usage: 163.0+ KB\n"
     ]
    }
   ],
   "source": [
    "calls.info()"
   ]
  },
  {
   "cell_type": "code",
   "execution_count": 10,
   "id": "25aeb28b",
   "metadata": {},
   "outputs": [
    {
     "data": {
      "text/plain": [
       "Index(['78130 00821', '98453 94494', '01-09-2016 06:01:12', '186'], dtype='object')"
      ]
     },
     "execution_count": 10,
     "metadata": {},
     "output_type": "execute_result"
    }
   ],
   "source": [
    "calls.columns"
   ]
  },
  {
   "cell_type": "code",
   "execution_count": 27,
   "id": "31f18133",
   "metadata": {},
   "outputs": [],
   "source": [
    "calls['date'] = calls['01-09-2016 06:01:12'].apply(lambda x: pd.Timestamp(x).strftime('%B-%d-%Y %I:%M:%S %p'))\n"
   ]
  },
  {
   "cell_type": "code",
   "execution_count": 28,
   "id": "f97eb34f",
   "metadata": {},
   "outputs": [
    {
     "data": {
      "text/html": [
       "<div>\n",
       "<style scoped>\n",
       "    .dataframe tbody tr th:only-of-type {\n",
       "        vertical-align: middle;\n",
       "    }\n",
       "\n",
       "    .dataframe tbody tr th {\n",
       "        vertical-align: top;\n",
       "    }\n",
       "\n",
       "    .dataframe thead th {\n",
       "        text-align: right;\n",
       "    }\n",
       "</style>\n",
       "<table border=\"1\" class=\"dataframe\">\n",
       "  <thead>\n",
       "    <tr style=\"text-align: right;\">\n",
       "      <th></th>\n",
       "      <th>78130 00821</th>\n",
       "      <th>98453 94494</th>\n",
       "      <th>01-09-2016 06:01:12</th>\n",
       "      <th>186</th>\n",
       "      <th>date</th>\n",
       "    </tr>\n",
       "  </thead>\n",
       "  <tbody>\n",
       "    <tr>\n",
       "      <th>0</th>\n",
       "      <td>78298 91466</td>\n",
       "      <td>(022)28952819</td>\n",
       "      <td>01-09-2016 06:01:59</td>\n",
       "      <td>2093</td>\n",
       "      <td>January-09-2016 06:01:59 AM</td>\n",
       "    </tr>\n",
       "    <tr>\n",
       "      <th>1</th>\n",
       "      <td>97424 22395</td>\n",
       "      <td>(022)47410783</td>\n",
       "      <td>01-09-2016 06:03:51</td>\n",
       "      <td>1975</td>\n",
       "      <td>January-09-2016 06:03:51 AM</td>\n",
       "    </tr>\n",
       "    <tr>\n",
       "      <th>2</th>\n",
       "      <td>93427 40118</td>\n",
       "      <td>(080)33118033</td>\n",
       "      <td>01-09-2016 06:11:23</td>\n",
       "      <td>1156</td>\n",
       "      <td>January-09-2016 06:11:23 AM</td>\n",
       "    </tr>\n",
       "    <tr>\n",
       "      <th>3</th>\n",
       "      <td>90087 42537</td>\n",
       "      <td>(080)35121497</td>\n",
       "      <td>01-09-2016 06:17:26</td>\n",
       "      <td>573</td>\n",
       "      <td>January-09-2016 06:17:26 AM</td>\n",
       "    </tr>\n",
       "    <tr>\n",
       "      <th>4</th>\n",
       "      <td>97427 87999</td>\n",
       "      <td>(04344)322628</td>\n",
       "      <td>01-09-2016 06:19:28</td>\n",
       "      <td>2751</td>\n",
       "      <td>January-09-2016 06:19:28 AM</td>\n",
       "    </tr>\n",
       "    <tr>\n",
       "      <th>5</th>\n",
       "      <td>(080)45291968</td>\n",
       "      <td>90365 06212</td>\n",
       "      <td>01-09-2016 06:30:36</td>\n",
       "      <td>9</td>\n",
       "      <td>January-09-2016 06:30:36 AM</td>\n",
       "    </tr>\n",
       "    <tr>\n",
       "      <th>6</th>\n",
       "      <td>78132 18081</td>\n",
       "      <td>77956 90632</td>\n",
       "      <td>01-09-2016 06:39:03</td>\n",
       "      <td>3043</td>\n",
       "      <td>January-09-2016 06:39:03 AM</td>\n",
       "    </tr>\n",
       "    <tr>\n",
       "      <th>7</th>\n",
       "      <td>98453 46196</td>\n",
       "      <td>94005 06213</td>\n",
       "      <td>01-09-2016 06:40:20</td>\n",
       "      <td>2457</td>\n",
       "      <td>January-09-2016 06:40:20 AM</td>\n",
       "    </tr>\n",
       "    <tr>\n",
       "      <th>8</th>\n",
       "      <td>78290 99865</td>\n",
       "      <td>89071 31755</td>\n",
       "      <td>01-09-2016 06:46:56</td>\n",
       "      <td>9</td>\n",
       "      <td>January-09-2016 06:46:56 AM</td>\n",
       "    </tr>\n",
       "    <tr>\n",
       "      <th>9</th>\n",
       "      <td>(04344)228249</td>\n",
       "      <td>(080)43901222</td>\n",
       "      <td>01-09-2016 06:50:04</td>\n",
       "      <td>2329</td>\n",
       "      <td>January-09-2016 06:50:04 AM</td>\n",
       "    </tr>\n",
       "    <tr>\n",
       "      <th>10</th>\n",
       "      <td>(080)62164823</td>\n",
       "      <td>74066 93594</td>\n",
       "      <td>01-09-2016 06:52:07</td>\n",
       "      <td>300</td>\n",
       "      <td>January-09-2016 06:52:07 AM</td>\n",
       "    </tr>\n",
       "    <tr>\n",
       "      <th>11</th>\n",
       "      <td>(0821)6141380</td>\n",
       "      <td>90366 69257</td>\n",
       "      <td>01-09-2016 06:54:44</td>\n",
       "      <td>2147</td>\n",
       "      <td>January-09-2016 06:54:44 AM</td>\n",
       "    </tr>\n",
       "    <tr>\n",
       "      <th>12</th>\n",
       "      <td>98446 66723</td>\n",
       "      <td>83019 53227</td>\n",
       "      <td>01-09-2016 06:56:16</td>\n",
       "      <td>129</td>\n",
       "      <td>January-09-2016 06:56:16 AM</td>\n",
       "    </tr>\n",
       "    <tr>\n",
       "      <th>13</th>\n",
       "      <td>90088 09624</td>\n",
       "      <td>93434 31551</td>\n",
       "      <td>01-09-2016 06:57:44</td>\n",
       "      <td>133</td>\n",
       "      <td>January-09-2016 06:57:44 AM</td>\n",
       "    </tr>\n",
       "    <tr>\n",
       "      <th>14</th>\n",
       "      <td>93427 56500</td>\n",
       "      <td>98447 12671</td>\n",
       "      <td>01-09-2016 07:03:45</td>\n",
       "      <td>29</td>\n",
       "      <td>January-09-2016 07:03:45 AM</td>\n",
       "    </tr>\n",
       "    <tr>\n",
       "      <th>15</th>\n",
       "      <td>(040)26738737</td>\n",
       "      <td>90194 00845</td>\n",
       "      <td>01-09-2016 07:12:39</td>\n",
       "      <td>94</td>\n",
       "      <td>January-09-2016 07:12:39 AM</td>\n",
       "    </tr>\n",
       "    <tr>\n",
       "      <th>16</th>\n",
       "      <td>(080)67362492</td>\n",
       "      <td>(04344)316423</td>\n",
       "      <td>01-09-2016 07:24:45</td>\n",
       "      <td>2258</td>\n",
       "      <td>January-09-2016 07:24:45 AM</td>\n",
       "    </tr>\n",
       "    <tr>\n",
       "      <th>17</th>\n",
       "      <td>90192 87313</td>\n",
       "      <td>(080)33251027</td>\n",
       "      <td>01-09-2016 07:28:01</td>\n",
       "      <td>110</td>\n",
       "      <td>January-09-2016 07:28:01 AM</td>\n",
       "    </tr>\n",
       "    <tr>\n",
       "      <th>18</th>\n",
       "      <td>97421 07528</td>\n",
       "      <td>97399 92703</td>\n",
       "      <td>01-09-2016 07:30:50</td>\n",
       "      <td>2918</td>\n",
       "      <td>January-09-2016 07:30:50 AM</td>\n",
       "    </tr>\n",
       "    <tr>\n",
       "      <th>19</th>\n",
       "      <td>78130 00821</td>\n",
       "      <td>98453 94494</td>\n",
       "      <td>01-09-2016 07:31:20</td>\n",
       "      <td>1560</td>\n",
       "      <td>January-09-2016 07:31:20 AM</td>\n",
       "    </tr>\n",
       "  </tbody>\n",
       "</table>\n",
       "</div>"
      ],
      "text/plain": [
       "      78130 00821    98453 94494  01-09-2016 06:01:12   186  \\\n",
       "0     78298 91466  (022)28952819  01-09-2016 06:01:59  2093   \n",
       "1     97424 22395  (022)47410783  01-09-2016 06:03:51  1975   \n",
       "2     93427 40118  (080)33118033  01-09-2016 06:11:23  1156   \n",
       "3     90087 42537  (080)35121497  01-09-2016 06:17:26   573   \n",
       "4     97427 87999  (04344)322628  01-09-2016 06:19:28  2751   \n",
       "5   (080)45291968    90365 06212  01-09-2016 06:30:36     9   \n",
       "6     78132 18081    77956 90632  01-09-2016 06:39:03  3043   \n",
       "7     98453 46196    94005 06213  01-09-2016 06:40:20  2457   \n",
       "8     78290 99865    89071 31755  01-09-2016 06:46:56     9   \n",
       "9   (04344)228249  (080)43901222  01-09-2016 06:50:04  2329   \n",
       "10  (080)62164823    74066 93594  01-09-2016 06:52:07   300   \n",
       "11  (0821)6141380    90366 69257  01-09-2016 06:54:44  2147   \n",
       "12    98446 66723    83019 53227  01-09-2016 06:56:16   129   \n",
       "13    90088 09624    93434 31551  01-09-2016 06:57:44   133   \n",
       "14    93427 56500    98447 12671  01-09-2016 07:03:45    29   \n",
       "15  (040)26738737    90194 00845  01-09-2016 07:12:39    94   \n",
       "16  (080)67362492  (04344)316423  01-09-2016 07:24:45  2258   \n",
       "17    90192 87313  (080)33251027  01-09-2016 07:28:01   110   \n",
       "18    97421 07528    97399 92703  01-09-2016 07:30:50  2918   \n",
       "19    78130 00821    98453 94494  01-09-2016 07:31:20  1560   \n",
       "\n",
       "                           date  \n",
       "0   January-09-2016 06:01:59 AM  \n",
       "1   January-09-2016 06:03:51 AM  \n",
       "2   January-09-2016 06:11:23 AM  \n",
       "3   January-09-2016 06:17:26 AM  \n",
       "4   January-09-2016 06:19:28 AM  \n",
       "5   January-09-2016 06:30:36 AM  \n",
       "6   January-09-2016 06:39:03 AM  \n",
       "7   January-09-2016 06:40:20 AM  \n",
       "8   January-09-2016 06:46:56 AM  \n",
       "9   January-09-2016 06:50:04 AM  \n",
       "10  January-09-2016 06:52:07 AM  \n",
       "11  January-09-2016 06:54:44 AM  \n",
       "12  January-09-2016 06:56:16 AM  \n",
       "13  January-09-2016 06:57:44 AM  \n",
       "14  January-09-2016 07:03:45 AM  \n",
       "15  January-09-2016 07:12:39 AM  \n",
       "16  January-09-2016 07:24:45 AM  \n",
       "17  January-09-2016 07:28:01 AM  \n",
       "18  January-09-2016 07:30:50 AM  \n",
       "19  January-09-2016 07:31:20 AM  "
      ]
     },
     "execution_count": 28,
     "metadata": {},
     "output_type": "execute_result"
    }
   ],
   "source": [
    "calls.head(20)"
   ]
  },
  {
   "cell_type": "code",
   "execution_count": 21,
   "id": "50b7a413",
   "metadata": {},
   "outputs": [
    {
     "data": {
      "text/plain": [
       "date    April-09-2016 01:00 PM\n",
       "dtype: object"
      ]
     },
     "execution_count": 21,
     "metadata": {},
     "output_type": "execute_result"
    }
   ],
   "source": [
    "calls[['date']].min()"
   ]
  },
  {
   "cell_type": "code",
   "execution_count": 6,
   "id": "6eb4b327",
   "metadata": {},
   "outputs": [],
   "source": [
    "texts = pd.read_csv('texts.csv')"
   ]
  },
  {
   "cell_type": "code",
   "execution_count": null,
   "id": "a83c99c8",
   "metadata": {},
   "outputs": [],
   "source": []
  },
  {
   "cell_type": "code",
   "execution_count": 8,
   "id": "7e13e52a",
   "metadata": {},
   "outputs": [
    {
     "name": "stdout",
     "output_type": "stream",
     "text": [
      "<class 'pandas.core.frame.DataFrame'>\n",
      "RangeIndex: 9071 entries, 0 to 9070\n",
      "Data columns (total 3 columns):\n",
      " #   Column               Non-Null Count  Dtype \n",
      "---  ------               --------------  ----- \n",
      " 0   97424 22395          9071 non-null   object\n",
      " 1   90365 06212          9071 non-null   object\n",
      " 2   01-09-2016 06:03:22  9071 non-null   object\n",
      "dtypes: object(3)\n",
      "memory usage: 212.7+ KB\n"
     ]
    }
   ],
   "source": [
    "texts.info()"
   ]
  },
  {
   "cell_type": "code",
   "execution_count": null,
   "id": "83bbce4d",
   "metadata": {},
   "outputs": [],
   "source": [
    "df['Dat'] = pd.to_datetime(df['OPEN TIME'],format= '%H:%M:%S' ).dt.time"
   ]
  }
 ],
 "metadata": {
  "kernelspec": {
   "display_name": "Python 3",
   "language": "python",
   "name": "python3"
  },
  "language_info": {
   "codemirror_mode": {
    "name": "ipython",
    "version": 3
   },
   "file_extension": ".py",
   "mimetype": "text/x-python",
   "name": "python",
   "nbconvert_exporter": "python",
   "pygments_lexer": "ipython3",
   "version": "3.8.8"
  }
 },
 "nbformat": 4,
 "nbformat_minor": 5
}
