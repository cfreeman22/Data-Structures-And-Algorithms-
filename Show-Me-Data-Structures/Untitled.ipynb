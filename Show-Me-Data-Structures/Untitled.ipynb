{
 "cells": [
  {
   "cell_type": "code",
   "execution_count": 1,
   "id": "ebe2327b",
   "metadata": {},
   "outputs": [
    {
     "name": "stdout",
     "output_type": "stream",
     "text": [
      "['Untitled.ipynb', 'problem_2.py', 'problem_1.py', 'testdir', '.ipynb_checkpoints']\n",
      "False\n",
      "True\n"
     ]
    }
   ],
   "source": [
    "## Locally save and call this file ex.py ##\n",
    "\n",
    "# Code to demonstrate the use of some of the OS modules in python\n",
    "\n",
    "import os\n",
    "import sys\n",
    "\n",
    "# Let us print the files in the directory in which you are running this script\n",
    "print (os.listdir(\".\"))\n",
    "\n",
    "# Let us check if this file is indeed a file!\n",
    "print (os.path.isfile(\"./ex.py\"))\n",
    "\n",
    "# Does the file end with .py?\n",
    "print (\"./ex.py\".endswith(\".py\"))"
   ]
  },
  {
   "cell_type": "markdown",
   "id": "8923e713",
   "metadata": {},
   "source": [
    "def find_files(suffix, path, all_files=[]):\n",
    "    \"\"\"\n",
    "    Find all files beneath path with file name suffix.\n",
    "\n",
    "    Note that a path may contain further subdirectories\n",
    "    and those subdirectories may also contain further subdirectories.\n",
    "\n",
    "    There are no limit to the depth of the subdirectories can be.\n",
    "\n",
    "    Args:\n",
    "      suffix(str): suffix if the file name to be found\n",
    "      path(str): path of the file system\n",
    "\n",
    "    Returns:\n",
    "       a list of paths\n",
    "       \n",
    "    \"\"\"\n",
    "    #creating an empty list files\n",
    "    temp = suffix\n",
    "    if path:\n",
    "        temp = suffix + '/' + path\n",
    "    for x in os.listdir(temp):\n",
    "        temp_file = temp + '/' + x\n",
    "        if os.path.isfile(temp_file) and temp_file.endswith('.c'):\n",
    "            all_files.append(temp_file)\n",
    "            \n",
    "        elif os.path.isdir(temp_file):\n",
    "            all_files = find_files(temp, x, all_files)\n",
    "            \n",
    "    return all_files"
   ]
  },
  {
   "cell_type": "markdown",
   "id": "d75f6ca5",
   "metadata": {},
   "source": [
    "print(find_files('.','testdir', all_files=[]))\n",
    "print('=====================================================')\n",
    "print('======================================================')\n",
    "print(find_files('.','',all_files=[]))\n",
    "print('=====================================================')\n",
    "print('=====================================================')\n",
    "print(find_files('.','testdir/subdir3', all_files=[]))"
   ]
  },
  {
   "cell_type": "markdown",
   "id": "a6e165ea",
   "metadata": {},
   "source": [
    "def find_files2(suffix, path, path_list):\n",
    "    \"\"\"\n",
    "    Find all files beneath path with file name suffix.\n",
    "\n",
    "    Note that a path may contain further subdirectories\n",
    "    and those subdirectories may also contain further subdirectories.\n",
    "\n",
    "    There are no limit to the depth of the subdirectories can be.\n",
    "\n",
    "    Args:\n",
    "      suffix(str): suffix if the file name to be found\n",
    "      path(str): path of the file system\n",
    "\n",
    "    Returns:\n",
    "       a list of paths\n",
    "       \n",
    "    \"\"\"\n",
    "    #Initializing paths\n",
    "    paths = os.listdir(path)\n",
    "    \n",
    "    #creating a list of paths\n",
    "    \n",
    "    path_list += [os.path.join(path, x) for x in paths if suffix in os.path.join(path, x)]\n",
    "    # creating a list of directories\n",
    "    \n",
    "    directories = [os.path.join(path, x) for x in paths if os.path.isdir(os.path.join(path, x))]\n",
    "    \n",
    "    # looping through directories\n",
    "    \n",
    "    for x in directories:\n",
    "        find_files2(suffix, x, path_list)\n",
    "    \n",
    "    # returning an empty list if nothing is found in paths\n",
    "    \n",
    "    if len(paths)== 0:\n",
    "        return []\n",
    "    \n",
    "        \n",
    "     \n",
    "    return path_list"
   ]
  },
  {
   "cell_type": "markdown",
   "id": "c64643e6",
   "metadata": {},
   "source": [
    "#print(find_files2('.','testdir'))\n",
    "find_files2(suffix='z',path='./testdir',path_list=[])"
   ]
  },
  {
   "cell_type": "markdown",
   "id": "253c1fd8",
   "metadata": {},
   "source": [
    "def find_files3(suffix, path, all_files=[]):\n",
    "    \"\"\"\n",
    "    Find all files beneath path with file name suffix.\n",
    "\n",
    "    Note that a path may contain further subdirectories\n",
    "    and those subdirectories may also contain further subdirectories.\n",
    "\n",
    "    There are no limit to the depth of the subdirectories can be.\n",
    "\n",
    "    Args:\n",
    "      suffix(str): suffix if the file name to be found\n",
    "      path(str): path of the file system\n",
    "\n",
    "    Returns:\n",
    "       a list of paths\n",
    "       \n",
    "    \"\"\"\n",
    "     \n",
    "    # assigning dirs to suffix\n",
    "    dirs = suffix\n",
    "    \n",
    "    #redefine our path \n",
    "    dirs = suffix + '/' + path\n",
    "    \n",
    "    #Extracting all the dirictories ending with .c\n",
    "    all_files += [dirs + '/' + x for x in os.listdir(dirs) if os.path.isfile(dirs) and dirs.endswith('.c')]\n",
    "    \n",
    "     \n",
    "         \n",
    "    if os.path.isdir(dirs):\n",
    "        all_files = find_files(suffix, path, all_files=[])\n",
    "\n",
    "            \n",
    "            \n",
    "    return all_files"
   ]
  },
  {
   "cell_type": "markdown",
   "id": "1898bac5",
   "metadata": {},
   "source": [
    "find_files3('.','', all_files=[])"
   ]
  },
  {
   "cell_type": "markdown",
   "id": "97a9b8c8",
   "metadata": {},
   "source": [
    "find_files3('.','testdir', all_files=[])"
   ]
  },
  {
   "cell_type": "markdown",
   "id": "407bb82f",
   "metadata": {},
   "source": [
    "find_files3('.','testdir/subdir3', all_files=[])"
   ]
  },
  {
   "cell_type": "markdown",
   "id": "fbfafba7",
   "metadata": {},
   "source": [
    "import heapq\n",
    "from collections import Counter\n",
    "import sys\n",
    "class Tree:\n",
    "    def __init__(self, ch, freq, left=None, right=None):\n",
    "        self.ch = ch\n",
    "        self.freq = freq\n",
    "        self.left = left\n",
    "        self.right = right\n",
    "\n",
    "    def __inferior__(self, other):\n",
    "        return self.freq < other.freq\n",
    "    \n",
    "\n",
    "def our_tree(data):\n",
    "    counter = Counter(data)\n",
    "    prq = [Tree(ch, counter[ch]) for ch in counter]\n",
    "    heapq.heapify(prq)\n",
    "    while len(prq) > 1:\n",
    "        left = heapq.heappop(prq)\n",
    "        right = heapq.heappop(prq)\n",
    "        parent = Tree(None, left.freq+right.freq, left, right)\n",
    "        heapq.heappush(prq, parent)\n",
    "    return heapq.heappop(prq)\n",
    "\n",
    "\n",
    "def our_map(root):\n",
    "    def depth_search(root, code, encoding_map):\n",
    "        if root.ch:\n",
    "            encoding_map[root.ch] = ''.join(code)\n",
    "        else:\n",
    "            code.append('0')\n",
    "            dfs(root.left, code, encoding_map)\n",
    "            code.pop()\n",
    "            code.append('1')\n",
    "            depth_search(root.right, code, encoding_map)\n",
    "            code.pop()\n",
    "    encoding_map = {}\n",
    "    depth_search(root, [], encoding_map)\n",
    "    return encoding_map\n",
    "\n",
    "\n",
    "def huffman_encoding(data):\n",
    "    root = our_tree(data)\n",
    "    encoding_map = our_map(root)\n",
    "    return ''.join([encoding_map[ch] for ch in data])\n",
    "\n",
    "\n",
    "def huffman_decoding(encoded_data, root):\n",
    "    if root.ch:\n",
    "        return root.ch * len(encoded_data)\n",
    "    decoded_data  = []\n",
    "    node = root\n",
    "    for x in encoded_data:\n",
    "        if x == \"0\":\n",
    "            node = node.left\n",
    "        else:\n",
    "            node = node.right\n",
    "        if node.ch:\n",
    "            decoded_data.append(node.ch)\n",
    "            node = root\n",
    "    return ''.join(decoded_data )"
   ]
  },
  {
   "cell_type": "markdown",
   "id": "2a90e664",
   "metadata": {},
   "source": [
    "from collections import Counter\n",
    "import heapq\n",
    "import sys\n",
    "\n",
    "# making a tree class\n",
    "class Tree:\n",
    "    def __init__(self, ch, freq, left=None, right= None):\n",
    "        self.ch = ch\n",
    "        self.freq = freq \n",
    "        self.left = left\n",
    "        self.right = right\n",
    "    \n",
    "    def __lessthan__(self, other):\n",
    "        return self.freq < other.freq\n",
    "        \n",
    "        \n",
    "def our_tree(data):\n",
    "    counter = Counter(data)\n",
    "    pr_q = [Tree(ch, counter[ch]) for ch in counter]\n",
    "    heapq.heapify(pr_q)\n",
    "    while len(pr_q) > 1:\n",
    "        left = heapq.heappop(pr_q)\n",
    "        right = heapq.heappop(pr_q)\n",
    "        parent = Tree(None, left.freq+right.freq, left, right)\n",
    "        heapq.heappush(pr_q, parent)\n",
    "    return heapq.heappop(pr_q)\n",
    "\n",
    "# building our map with Depth-first search\n",
    "\n",
    "def our_map(root):\n",
    "    def depth_search(root, code, encoding_map):\n",
    "        if root.ch:\n",
    "            encoding_map[root.ch] = ''.join(code)\n",
    "        else:\n",
    "            code.append(\"0\")\n",
    "            depth_search(root.left, code, encoding_map)\n",
    "            code.pop()\n",
    "            code.append(\"1\")\n",
    "            depth_search(root.right, code, encoding_map)\n",
    "            code.pop()\n",
    "            \n",
    "    encoding_map ={}\n",
    "    depth_search(root,[], encoding_map)\n",
    "    \n",
    "    return encoding_map\n",
    "            \n",
    "        \n",
    "def huffman_encoding(data):\n",
    "    root = our_tree(data)\n",
    "    encoding_map = our_map(root)\n",
    "    \n",
    "    return ''.join([encoding_map[ch] for ch in data])\n",
    "    \n",
    "\n",
    "def huffman_decoding(encoded_data,root):\n",
    "    if root.ch:\n",
    "        return root.ch * len(encoded_data)\n",
    "    \n",
    "    decoded_data = []\n",
    "    node = root \n",
    "    for x in encoded_data:\n",
    "        if x == '0':\n",
    "            node = node.left\n",
    "        else:\n",
    "            node = node.right\n",
    "            \n",
    "        if node.ch:\n",
    "            decoded_data.append(node.ch)\n",
    "            node = root\n",
    "            \n",
    "    return ''.join(decoded_data)\n",
    "    \n",
    "\n",
    " "
   ]
  },
  {
   "cell_type": "markdown",
   "id": "c248c4ef",
   "metadata": {},
   "source": [
    "if __name__ == \"__main__\":\n",
    "    codes = {}\n",
    "\n",
    "    a_great_sentence = \"The bird is the word\"\n",
    "\n",
    "    print (\"The size of the data is: {}\\n\".format(sys.getsizeof(a_great_sentence)))\n",
    "    print (\"The content of the data is: {}\\n\".format(a_great_sentence))\n",
    "\n",
    "    encoded_data, tree = huffman_encoding(a_great_sentence)\n",
    "\n",
    "    print (\"The size of the encoded data is: {}\\n\".format(sys.getsizeof(int(encoded_data, base=2))))\n",
    "    print (\"The content of the encoded data is: {}\\n\".format(encoded_data))\n",
    "\n",
    "    decoded_data = huffman_decoding(encoded_data, tree)\n",
    "\n",
    "    print (\"The size of the decoded data is: {}\\n\".format(sys.getsizeof(decoded_data)))\n",
    "    print (\"The content of the encoded data is: {}\\n\".format(decoded_data))"
   ]
  },
  {
   "cell_type": "code",
   "execution_count": 2,
   "id": "00e1dc75",
   "metadata": {},
   "outputs": [],
   "source": [
    "a_great_sentence = \"The bird is the word\"\n"
   ]
  },
  {
   "cell_type": "code",
   "execution_count": 3,
   "id": "2ce6efe2",
   "metadata": {},
   "outputs": [
    {
     "name": "stdout",
     "output_type": "stream",
     "text": [
      "The size of the data is: 69\n",
      "\n"
     ]
    }
   ],
   "source": [
    "print (\"The size of the data is: {}\\n\".format(sys.getsizeof(a_great_sentence)))"
   ]
  },
  {
   "cell_type": "code",
   "execution_count": 4,
   "id": "0c885747",
   "metadata": {},
   "outputs": [
    {
     "name": "stdout",
     "output_type": "stream",
     "text": [
      "The content of the data is: The bird is the word\n",
      "\n"
     ]
    }
   ],
   "source": [
    "print (\"The content of the data is: {}\\n\".format(a_great_sentence))"
   ]
  },
  {
   "cell_type": "code",
   "execution_count": 5,
   "id": "d230a2a4",
   "metadata": {},
   "outputs": [],
   "source": [
    "#huffman_encoding(a_great_sentence)"
   ]
  },
  {
   "cell_type": "code",
   "execution_count": 6,
   "id": "e5a87d09",
   "metadata": {},
   "outputs": [],
   "source": [
    "#print(\"The size of the encoded data is: {}\\n\".format(sys.getsizeof(int(encoded_data, base=2))))"
   ]
  },
  {
   "cell_type": "code",
   "execution_count": 7,
   "id": "f6cfc3fe",
   "metadata": {},
   "outputs": [],
   "source": [
    "#print(\"The content of the encoded data is: {}\\n\".format(encoded_data))"
   ]
  },
  {
   "cell_type": "code",
   "execution_count": 8,
   "id": "8beaa4d8",
   "metadata": {},
   "outputs": [],
   "source": [
    "#decoded_data = huffman_decoding(encoded_data, our_tree(a_great_sentence))"
   ]
  },
  {
   "cell_type": "code",
   "execution_count": 9,
   "id": "2930a9ff",
   "metadata": {},
   "outputs": [],
   "source": [
    "#print(\"The size of the decoded data is: {}\\n\".format(sys.getsizeof(decoded_data)))\n",
    "#print(\"The content of the encoded data is: {}\\n\".format(decoded_data))"
   ]
  },
  {
   "cell_type": "code",
   "execution_count": 39,
   "id": "3e5c9706",
   "metadata": {},
   "outputs": [],
   "source": [
    "import heapq\n",
    "from collections import Counter\n",
    "import sys\n",
    "class Tree:\n",
    "    def __init__(self, ch, freq, left=None, right=None):\n",
    "        self.ch = ch\n",
    "        self.freq = freq\n",
    "        self.left = left\n",
    "        self.right = right\n",
    "#defining a less than funtion\n",
    "    def __lt__(self, other):\n",
    "        return self.freq < other.freq\n",
    "    \n",
    "\n",
    "def our_tree(text):\n",
    "    counter = Counter(text)\n",
    "    priority_q = [Tree(ch, counter[ch]) for ch in counter]\n",
    "    heapq.heapify(priority_q)\n",
    "    while len(priority_q) > 1:\n",
    "        left = heapq.heappop(priority_q)\n",
    "        right = heapq.heappop(priority_q)\n",
    "        parent = Tree(None, left.freq+right.freq, left, right)\n",
    "        heapq.heappush(priority_q, parent)\n",
    "    return heapq.heappop(priority_q)\n",
    "\n",
    "\n",
    "def our_map(root):\n",
    "    def depth_first_search(root, code, encoding_map):\n",
    "        if root.ch:\n",
    "            encoding_map[root.ch] = ''.join(code)\n",
    "        else:\n",
    "            code.append('0')\n",
    "            depth_first_search(root.left, code, encoding_map)\n",
    "            code.pop()\n",
    "            code.append('1')\n",
    "            depth_first_search(root.right, code, encoding_map)\n",
    "            code.pop()\n",
    "    encoding_map = {}\n",
    "    depth_first_search(root, [], encoding_map)\n",
    "    return encoding_map\n",
    "\n",
    "\n",
    "def huffman_encoding(text_input):\n",
    "    root = our_tree(text_input)\n",
    "    encoding_map = our_map(root)\n",
    "    return ''.join([encoding_map[ch] for ch in text_input])\n",
    "\n",
    "\n",
    "def huffman_decoding(encoded_data, root):\n",
    "    if root.ch:\n",
    "        return root.ch * len(encoded_data)\n",
    "    decoded_data = []\n",
    "    node = root\n",
    "    for x in encoded_data:\n",
    "        if x == \"0\":\n",
    "            node = node.left\n",
    "        else:\n",
    "            node = node.right\n",
    "        if node.ch:\n",
    "            decoded_data.append(node.ch)\n",
    "            node = root\n",
    "    return ''.join(decoded_data)"
   ]
  },
  {
   "cell_type": "code",
   "execution_count": 40,
   "id": "50ac7940",
   "metadata": {},
   "outputs": [
    {
     "data": {
      "text/plain": [
       "'1110111111101010001100110000101100101101101011111101010000111001100001'"
      ]
     },
     "execution_count": 40,
     "metadata": {},
     "output_type": "execute_result"
    }
   ],
   "source": [
    "encode(a_great_sentence)"
   ]
  },
  {
   "cell_type": "code",
   "execution_count": 16,
   "id": "95f6b3d5",
   "metadata": {},
   "outputs": [],
   "source": [
    "decoded_data = decode(encoded,build_tree(a_great_sentence))"
   ]
  },
  {
   "cell_type": "code",
   "execution_count": 17,
   "id": "85b24af2",
   "metadata": {},
   "outputs": [
    {
     "name": "stdout",
     "output_type": "stream",
     "text": [
      "The size of the decoded data is: 69\n",
      "\n",
      "The content of the encoded data is: The bird is the word\n",
      "\n"
     ]
    }
   ],
   "source": [
    "print (\"The size of the decoded data is: {}\\n\".format(sys.getsizeof(decoded_data)))\n",
    "print (\"The content of the encoded data is: {}\\n\".format(decoded_data))"
   ]
  },
  {
   "cell_type": "code",
   "execution_count": 42,
   "id": "37fcbb67",
   "metadata": {},
   "outputs": [
    {
     "name": "stdout",
     "output_type": "stream",
     "text": [
      "The size of the data is: 69\n",
      "\n",
      "The content of the data is: The bird is the word\n",
      "\n",
      "The size of the encoded data is: 36\n",
      "\n",
      "The content of the encoded data is: 1110111111101010001100110000101100101101101011111101010000111001100001\n",
      "\n",
      "The size of the decoded data is: 69\n",
      "\n",
      "The content of the encoded data is: The bird is the word\n",
      "\n"
     ]
    }
   ],
   "source": [
    "a_great_sentence = \"The bird is the word\"\n",
    "\n",
    "print (\"The size of the data is: {}\\n\".format(sys.getsizeof(a_great_sentence)))\n",
    "print (\"The content of the data is: {}\\n\".format(a_great_sentence))\n",
    "\n",
    "encoded_data= huffman_encoding(a_great_sentence)\n",
    "\n",
    "print (\"The size of the encoded data is: {}\\n\".format(sys.getsizeof(int(encoded_data, base=2))))\n",
    "print (\"The content of the encoded data is: {}\\n\".format(encoded_data))\n",
    "\n",
    "decoded_data = huffman_decoding(encoded_data, our_tree(a_great_sentence))\n",
    "\n",
    "print (\"The size of the decoded data is: {}\\n\".format(sys.getsizeof(decoded_data)))\n",
    "print (\"The content of the encoded data is: {}\\n\".format(decoded_data))"
   ]
  },
  {
   "cell_type": "code",
   "execution_count": 45,
   "id": "721a4720",
   "metadata": {},
   "outputs": [
    {
     "name": "stdout",
     "output_type": "stream",
     "text": [
      "The size of the data is: 74\n",
      "\n",
      "The content of the data is: AAAAAAABBBCCCCCCCDDEEEEEE\n",
      "\n",
      "The size of the encoded data is: 32\n",
      "\n",
      "The content of the encoded data is: 1010101010101000100100111111111111111000000010101010101\n",
      "\n",
      "The size of the decoded data is: 74\n",
      "\n",
      "The content of the encoded data is: AAAAAAABBBCCCCCCCDDEEEEEE\n",
      "\n"
     ]
    }
   ],
   "source": [
    "the_other = 'AAAAAAABBBCCCCCCCDDEEEEEE'\n",
    "print (\"The size of the data is: {}\\n\".format(sys.getsizeof(the_other)))\n",
    "print (\"The content of the data is: {}\\n\".format(the_other))\n",
    "\n",
    "encoded_data= huffman_encoding(the_other)\n",
    "\n",
    "print (\"The size of the encoded data is: {}\\n\".format(sys.getsizeof(int(encoded_data, base=2))))\n",
    "print (\"The content of the encoded data is: {}\\n\".format(encoded_data))\n",
    "\n",
    "decoded_data = huffman_decoding(encoded_data, our_tree(the_other))\n",
    "\n",
    "print (\"The size of the decoded data is: {}\\n\".format(sys.getsizeof(decoded_data)))\n",
    "print (\"The content of the encoded data is: {}\\n\".format(decoded_data))"
   ]
  },
  {
   "cell_type": "code",
   "execution_count": null,
   "id": "f1054d21",
   "metadata": {},
   "outputs": [],
   "source": []
  }
 ],
 "metadata": {
  "kernelspec": {
   "display_name": "Python 3",
   "language": "python",
   "name": "python3"
  },
  "language_info": {
   "codemirror_mode": {
    "name": "ipython",
    "version": 3
   },
   "file_extension": ".py",
   "mimetype": "text/x-python",
   "name": "python",
   "nbconvert_exporter": "python",
   "pygments_lexer": "ipython3",
   "version": "3.8.8"
  }
 },
 "nbformat": 4,
 "nbformat_minor": 5
}
